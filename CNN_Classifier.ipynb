{
  "nbformat": 4,
  "nbformat_minor": 0,
  "metadata": {
    "colab": {
      "name": "NNDL_project1.ipynb",
      "provenance": [],
      "collapsed_sections": [
        "FyRj--w6YiuE",
        "K7J9QL3KZOYJ",
        "7R19VfZvKWFK",
        "L8u7ehgjqz8h",
        "Y01RGNqsp1RE",
        "uLX-zwCJqW30",
        "XPgw0WybHGbK",
        "CQvA8gsV8jsS"
      ],
      "toc_visible": true,
      "mount_file_id": "1Kim19eFE4a2jjSL-sLmJTzHpJ-l_38cY",
      "authorship_tag": "ABX9TyPPSJ+WfHCpbsFpIGb84t4w"
    },
    "kernelspec": {
      "name": "python3",
      "display_name": "Python 3"
    }
  },
  "cells": [
    {
      "cell_type": "code",
      "metadata": {
        "colab_type": "code",
        "id": "PJhyAKPIQ-xE",
        "colab": {
          "base_uri": "https://localhost:8080/",
          "height": 34
        },
        "outputId": "c59f8c8d-0913-4d0b-d1d6-4e4a58d7db16"
      },
      "source": [
        "import numpy as np\n",
        "import pandas as pd\n",
        "from sklearn import preprocessing\n",
        "from sklearn.model_selection import train_test_split\n",
        "from sklearn.metrics import confusion_matrix\n",
        "import matplotlib.pyplot as plt\n",
        "from matplotlib.pyplot import figure\n",
        "import os\n",
        "import cv2 \n",
        "from google.colab.patches import cv2_imshow\n",
        "from PIL import Image\n",
        "import sys\n",
        "import math\n",
        "import random\n",
        "from skimage.transform import rotate, AffineTransform\n",
        "from skimage.util import random_noise\n",
        "import copy\n",
        "\n",
        "\n",
        "%tensorflow_version 2.x\n",
        "import tensorflow as tf\n",
        "from tensorflow import keras\n",
        "from tensorflow.keras.models import Model\n",
        "from tensorflow.keras import layers\n",
        "from tensorflow.keras.regularizers import l1\n",
        "from keras.callbacks import ModelCheckpoint\n",
        "from keras.utils import to_categorical\n",
        "from keras.models import load_model\n",
        "from keras import backend as k"
      ],
      "execution_count": null,
      "outputs": [
        {
          "output_type": "stream",
          "text": [
            "Using TensorFlow backend.\n"
          ],
          "name": "stderr"
        }
      ]
    },
    {
      "cell_type": "markdown",
      "metadata": {
        "id": "FyRj--w6YiuE",
        "colab_type": "text"
      },
      "source": [
        "## Functrion"
      ]
    },
    {
      "cell_type": "code",
      "metadata": {
        "id": "_AJCe_MbTul2",
        "colab_type": "code",
        "colab": {}
      },
      "source": [
        "def progress_bar(count, total):\n",
        "    bar_len = 60\n",
        "    filled_len = int(round(bar_len * count / float(total)))\n",
        "    percents = round(100.0 * count / float(total), 1)\n",
        "    bar = '=' * filled_len + '-' * (bar_len - filled_len)\n",
        "    sys.stdout.write('\\r')\n",
        "    # the exact output you're looking for:\n",
        "    sys.stdout.write(\"[%-20s] %d%%\" % (bar, percents))\n",
        "    sys.stdout.flush()\n",
        "\n",
        "def plot_loss_accuracy(history,what_to_plot):\n",
        "  figure(num=None, figsize=(8,8), dpi=80, facecolor='w', edgecolor='k')\n",
        "  plt.plot(history[what_to_plot])\n",
        "  plt.plot(history['val_'+what_to_plot])\n",
        "  plt.title(what_to_plot + \" plot per epochs\" )\n",
        "  plt.ylabel(what_to_plot)\n",
        "  plt.xlabel('epoch')\n",
        "  plt.legend(['train_data', 'validation_data'], loc='center right')\n",
        "  plt.show()\n",
        "\n",
        "\n",
        "def plot_confusion_matrix(cm,class_names, title='Confusion matrix', cmap='viridis'):\n",
        "  \n",
        "    figure(num=None, figsize=(12,12), dpi=80, facecolor='w', edgecolor='k')\n",
        "    plt.imshow(cm, interpolation='nearest', cmap=cmap)\n",
        "    tick_marks = np.arange(len(class_names))\n",
        "    plt.xticks(tick_marks, class_names, rotation=45)\n",
        "    plt.yticks(tick_marks, class_names)\n",
        "    for i in range(cm.shape[0]):\n",
        "        for j in range(cm.shape[1]):\n",
        "           plt.text(j, i, cm[i,j],ha=\"center\", va=\"center\")\n",
        "\n",
        "    plt.tight_layout()\n",
        "    plt.title(title)\n",
        "    plt.ylabel('True label')\n",
        "    plt.xlabel('Predicted label')\n",
        "\n",
        "def generate_random_numbers(range_, number):\n",
        "  randomlist = []\n",
        "  for i in range(number):\n",
        "    n = random.randint(range_[0], range_[1])\n",
        "    randomlist.append(n)\n",
        "  return randomlist"
      ],
      "execution_count": null,
      "outputs": []
    },
    {
      "cell_type": "markdown",
      "metadata": {
        "id": "K7J9QL3KZOYJ",
        "colab_type": "text"
      },
      "source": [
        "## data prepration"
      ]
    },
    {
      "cell_type": "code",
      "metadata": {
        "id": "ZdU4Hq9mLNRH",
        "colab_type": "code",
        "colab": {}
      },
      "source": [
        "height = 35\n",
        "width = 35\n",
        "channels = 3\n",
        "num_classes = 43\n",
        "n_inputs = height * width * channels\n",
        "\n",
        "dataset_path = \"/content/drive/My Drive/german_trafficsign_dataset/\""
      ],
      "execution_count": null,
      "outputs": []
    },
    {
      "cell_type": "markdown",
      "metadata": {
        "id": "u20NuwCoKRml",
        "colab_type": "text"
      },
      "source": [
        "### train data"
      ]
    },
    {
      "cell_type": "code",
      "metadata": {
        "id": "zYLG379hDYxt",
        "colab_type": "code",
        "colab": {
          "base_uri": "https://localhost:8080/",
          "height": 1000
        },
        "outputId": "f85c0f51-970a-4d94-e578-8497bdd5f435"
      },
      "source": [
        "train_data_=[]\n",
        "train_labels_=[]\n",
        "\n",
        "for i in range(num_classes) :\n",
        "  path = dataset_path + \"Train/\" + str(i)\n",
        "  class_data_names = os.listdir(path)\n",
        "  \n",
        "  print(\"\\n class: \",i)\n",
        "  print(\"number of class data: \",len(class_data_names))\n",
        "\n",
        "  for j in range(len(class_data_names)):\n",
        "    if(j%100 == 0):\n",
        "      progress_bar(j,len(class_data_names))\n",
        "    try:\n",
        "      # name = class_data_names[j]\n",
        "      # path_to_image = path + \"/\" + name\n",
        "      # image = cv2.imread(path_to_image)\n",
        "      # image = cv2.resize(image, (height, width))\n",
        "      # train_data_.append(np.array(image))\n",
        "      train_labels_.append(i)\n",
        "      # cv2_imshow(image)\n",
        "    except AttributeError:\n",
        "      print(\" \")\n",
        "# np.save(\"train_data\",train_data_)"
      ],
      "execution_count": null,
      "outputs": [
        {
          "output_type": "stream",
          "text": [
            "\n",
            " class:  0\n",
            "number of class data:  210\n",
            "[=========================================================---] 95%\n",
            " class:  1\n",
            "number of class data:  2220\n",
            "[===========================================================-] 99%\n",
            " class:  2\n",
            "number of class data:  2250\n",
            "[===========================================================-] 97%\n",
            " class:  3\n",
            "number of class data:  1410\n",
            "[============================================================] 99%\n",
            " class:  4\n",
            "number of class data:  1980\n",
            "[==========================================================--] 96%\n",
            " class:  5\n",
            "number of class data:  1860\n",
            "[==========================================================--] 96%\n",
            " class:  6\n",
            "number of class data:  420\n",
            "[=========================================================---] 95%\n",
            " class:  7\n",
            "number of class data:  1440\n",
            "[==========================================================--] 97%\n",
            " class:  8\n",
            "number of class data:  1410\n",
            "[============================================================] 99%\n",
            " class:  9\n",
            "number of class data:  1470\n",
            "[=========================================================---] 95%\n",
            " class:  10\n",
            "number of class data:  2010\n",
            "[============================================================] 99%\n",
            " class:  11\n",
            "number of class data:  1320\n",
            "[===========================================================-] 98%\n",
            " class:  12\n",
            "number of class data:  2100\n",
            "[=========================================================---] 95%\n",
            " class:  13\n",
            "number of class data:  2160\n",
            "[==========================================================--] 97%\n",
            " class:  14\n",
            "number of class data:  780\n",
            "[======================================================------] 89%\n",
            " class:  15\n",
            "number of class data:  630\n",
            "[=========================================================---] 95%\n",
            " class:  16\n",
            "number of class data:  420\n",
            "[=========================================================---] 95%\n",
            " class:  17\n",
            "number of class data:  1110\n",
            "[===========================================================-] 99%\n",
            " class:  18\n",
            "number of class data:  1200\n",
            "[=======================================================-----] 91%\n",
            " class:  19\n",
            "number of class data:  210\n",
            "[=========================================================---] 95%\n",
            " class:  20\n",
            "number of class data:  360\n",
            "[==================================================----------] 83%\n",
            " class:  21\n",
            "number of class data:  330\n",
            "[=======================================================-----] 90%\n",
            " class:  22\n",
            "number of class data:  390\n",
            "[==============================================--------------] 76%\n",
            " class:  23\n",
            "number of class data:  510\n",
            "[===========================================================-] 98%\n",
            " class:  24\n",
            "number of class data:  270\n",
            "[============================================----------------] 74%\n",
            " class:  25\n",
            "number of class data:  1500\n",
            "[========================================================----] 93%\n",
            " class:  26\n",
            "number of class data:  600\n",
            "[==================================================----------] 83%\n",
            " class:  27\n",
            "number of class data:  240\n",
            "[==================================================----------] 83%\n",
            " class:  28\n",
            "number of class data:  540\n",
            "[========================================================----] 92%\n",
            " class:  29\n",
            "number of class data:  270\n",
            "[============================================----------------] 74%\n",
            " class:  30\n",
            "number of class data:  450\n",
            "[=====================================================-------] 88%\n",
            " class:  31\n",
            "number of class data:  780\n",
            "[======================================================------] 89%\n",
            " class:  32\n",
            "number of class data:  240\n",
            "[==================================================----------] 83%\n",
            " class:  33\n",
            "number of class data:  689\n",
            "[====================================================--------] 87%\n",
            " class:  34\n",
            "number of class data:  420\n",
            "[=========================================================---] 95%\n",
            " class:  35\n",
            "number of class data:  1200\n",
            "[=======================================================-----] 91%\n",
            " class:  36\n",
            "number of class data:  390\n",
            "[==============================================--------------] 76%\n",
            " class:  37\n",
            "number of class data:  210\n",
            "[=========================================================---] 95%\n",
            " class:  38\n",
            "number of class data:  2070\n",
            "[==========================================================--] 96%\n",
            " class:  39\n",
            "number of class data:  300\n",
            "[========================================--------------------] 66%\n",
            " class:  40\n",
            "number of class data:  360\n",
            "[==================================================----------] 83%\n",
            " class:  41\n",
            "number of class data:  240\n",
            "[==================================================----------] 83%\n",
            " class:  42\n",
            "number of class data:  240\n",
            "[==================================================----------] 83%"
          ],
          "name": "stdout"
        }
      ]
    },
    {
      "cell_type": "code",
      "metadata": {
        "id": "Z-Jcu6Xxufb1",
        "colab_type": "code",
        "colab": {}
      },
      "source": [
        "#load saved file because the above code takes to much to run in google colab\n",
        "train_data_ = np.load(\"/content/drive/My Drive/german_trafficsign_dataset/train_data.npy\")"
      ],
      "execution_count": null,
      "outputs": []
    },
    {
      "cell_type": "code",
      "metadata": {
        "id": "_r0uHeaxu3ea",
        "colab_type": "code",
        "colab": {}
      },
      "source": [
        "indexes = np.arange(len(train_labels_))\n",
        "np.random.seed(85)\n",
        "np.random.shuffle(indexes)\n",
        "\n",
        "train_data = np.array(train_data_)\n",
        "train_labels = np.array(train_labels_)\n",
        "train_data = train_data[indexes]/255\n",
        "train_labels = train_labels[indexes]\n",
        "\n",
        "#prepare labels and make it one hot\n",
        "train_labels_hw2_extra = copy.deepcopy(train_labels)\n",
        "train_labels = to_categorical(train_labels,num_classes)"
      ],
      "execution_count": null,
      "outputs": []
    },
    {
      "cell_type": "markdown",
      "metadata": {
        "id": "7R19VfZvKWFK",
        "colab_type": "text"
      },
      "source": [
        "### test data"
      ]
    },
    {
      "cell_type": "code",
      "metadata": {
        "id": "W1uPJvl-KaMf",
        "colab_type": "code",
        "colab": {}
      },
      "source": [
        "test_csv = pd.read_csv(\"/content/drive/My Drive/german_trafficsign_dataset/Test.csv\")\n",
        "test_data_paths = test_csv['Path'].values\n",
        "test_labels_ = test_csv['ClassId'].values\n",
        "\n",
        "# test_data_=[]\n",
        "# for i in range(len(test_data_paths)):\n",
        "#   print(i)\n",
        "#   if(i%100 == 0):\n",
        "#     progress_bar(i,len(test_data_paths))\n",
        "#   try:\n",
        "#     name = test_data_paths[i]\n",
        "#     path_to_image = dataset_path + name\n",
        "#     image = cv2.imread(path_to_image)\n",
        "#     image = cv2.resize(image, (height, width))\n",
        "#     test_data_.append(np.array(image))\n",
        "#   except AttributeError:\n",
        "#     print(\" \")\n",
        "# np.save(\"test_data\",test_data_)\n",
        "\n",
        "test_data_ = np.load(\"/content/drive/My Drive/german_trafficsign_dataset/test_data.npy\")\n",
        "test_data = test_data_/255\n",
        "\n",
        "test_labels = np.array(test_labels_)\n",
        "test_labels = to_categorical(test_labels, num_classes)"
      ],
      "execution_count": null,
      "outputs": []
    },
    {
      "cell_type": "markdown",
      "metadata": {
        "id": "L8u7ehgjqz8h",
        "colab_type": "text"
      },
      "source": [
        "## data perpration better way"
      ]
    },
    {
      "cell_type": "code",
      "metadata": {
        "id": "Q4EyPAmQrEtg",
        "colab_type": "code",
        "colab": {}
      },
      "source": [
        "height = 35\n",
        "width = 35\n",
        "channels = 3\n",
        "num_classes = 43\n",
        "n_inputs = height * width * channels\n",
        "\n",
        "dataset_path = \"/content/drive/My Drive/NNDL/german_trafficsign_dataset/\"\n",
        "test_csv = pd.read_csv(\"/content/drive/My Drive/NNDL/german_trafficsign_dataset/Test.csv\")\n",
        "\n",
        "train_labels_=[]\n",
        "num_train_data_per_class ={}\n",
        "for i in range(num_classes) :\n",
        "  path = dataset_path + \"Train/\" + str(i)\n",
        "  class_data_names = os.listdir(path)\n",
        "  num_train_data_per_class[i] = len(class_data_names)\n",
        "  for j in range(len(class_data_names)):\n",
        "      train_labels_.append(i)\n",
        "\n",
        "train_labels = to_categorical(train_labels_,num_classes)\n",
        "train_data_ = np.load(dataset_path + \"train_data.npy\")\n",
        "\n",
        "test_data_paths = test_csv['Path'].values\n",
        "test_labels_ = test_csv['ClassId'].values\n",
        "test_labels = np.array(test_labels_)\n",
        "test_labels = to_categorical(test_labels, num_classes)\n",
        "test_data_ = np.load(dataset_path + \"test_data.npy\")\n",
        "test_data = test_data_/255"
      ],
      "execution_count": null,
      "outputs": []
    },
    {
      "cell_type": "code",
      "metadata": {
        "id": "mahZAnPuAFk5",
        "colab_type": "code",
        "colab": {
          "base_uri": "https://localhost:8080/",
          "height": 34
        },
        "outputId": "6aa87b23-b23a-4b86-eeb5-ce1f2b4258c4"
      },
      "source": [
        "train_data_.shape"
      ],
      "execution_count": null,
      "outputs": [
        {
          "output_type": "execute_result",
          "data": {
            "text/plain": [
              "(39209, 35, 35, 3)"
            ]
          },
          "metadata": {
            "tags": []
          },
          "execution_count": 5
        }
      ]
    },
    {
      "cell_type": "markdown",
      "metadata": {
        "id": "2I0NlGTEqKFu",
        "colab_type": "text"
      },
      "source": [
        "mini batch and validation split:"
      ]
    },
    {
      "cell_type": "code",
      "metadata": {
        "id": "YRrKmVUB_P09",
        "colab_type": "code",
        "colab": {}
      },
      "source": [
        "train_data, validation_data, train_labels, validation_labels = train_test_split(train_data_, train_labels, test_size=0.1, random_state=42)"
      ],
      "execution_count": null,
      "outputs": []
    },
    {
      "cell_type": "code",
      "metadata": {
        "id": "y4UZHXqsq6cq",
        "colab_type": "code",
        "colab": {}
      },
      "source": [
        "from tensorflow.keras.preprocessing.image import ImageDataGenerator\n",
        "BATCH_SIZE = 32\n",
        "train_image_generator = ImageDataGenerator(rescale=1./255)\n",
        "validation_image_generator = ImageDataGenerator(rescale=1./255)\n",
        "\n",
        "train_data_gen = train_image_generator.flow(train_data, train_labels, batch_size=BATCH_SIZE)\n",
        "validation_data_gen = validation_image_generator.flow(validation_data, validation_labels, batch_size=BATCH_SIZE, shuffle=False)"
      ],
      "execution_count": null,
      "outputs": []
    },
    {
      "cell_type": "markdown",
      "metadata": {
        "id": "4sbwDBXYT4TC",
        "colab_type": "text"
      },
      "source": [
        "# Data Augmantaion"
      ]
    },
    {
      "cell_type": "markdown",
      "metadata": {
        "id": "Y01RGNqsp1RE",
        "colab_type": "text"
      },
      "source": [
        "## method1:"
      ]
    },
    {
      "cell_type": "code",
      "metadata": {
        "id": "zFwcOTvxp-Bx",
        "colab_type": "code",
        "colab": {}
      },
      "source": [
        "augmented_train_image_generator = ImageDataGenerator(\n",
        "                    rescale=1./255,\n",
        "                    rotation_range=45,\n",
        "                    width_shift_range=.15,\n",
        "                    height_shift_range=.15,\n",
        "                    horizontal_flip=True,\n",
        "                    zoom_range=0.5\n",
        "                    )\n",
        "augmented_train_data_gen = augmented_train_image_generator.flow(train_data, train_labels, batch_size=32)"
      ],
      "execution_count": null,
      "outputs": []
    },
    {
      "cell_type": "markdown",
      "metadata": {
        "id": "uLX-zwCJqW30",
        "colab_type": "text"
      },
      "source": [
        "## method2:"
      ]
    },
    {
      "cell_type": "code",
      "metadata": {
        "id": "9yCr2ABXm_-K",
        "colab_type": "code",
        "colab": {}
      },
      "source": [
        "def get_random_transformed_image(image):\n",
        "  my_gen =  ImageDataGenerator(\n",
        "                    rescale=1./255,\n",
        "                    rotation_range=35,\n",
        "                    width_shift_range=.15,\n",
        "                    height_shift_range=.15,\n",
        "                    horizontal_flip=True,\n",
        "                    zoom_range=0.5\n",
        "                    )\n",
        "  random_transform_params = my_gen.get_random_transform((35, 35, 3))\n",
        "  return my_gen.apply_transform(image, random_transform_params)"
      ],
      "execution_count": null,
      "outputs": []
    },
    {
      "cell_type": "code",
      "metadata": {
        "id": "LXXKNeuMBm3w",
        "colab_type": "code",
        "colab": {}
      },
      "source": [
        "train_data_devided = {}\n",
        "for i in range(num_classes):\n",
        "  train_data_devided[i] = []\n",
        "for i in range(train_data.shape[0]):\n",
        "  train_data_devided[train_labels[i].argmax()].append(train_data[i])"
      ],
      "execution_count": null,
      "outputs": []
    },
    {
      "cell_type": "code",
      "metadata": {
        "id": "paHMRKSetAOO",
        "colab_type": "code",
        "colab": {}
      },
      "source": [
        "augmented_train_data = []\n",
        "augmented_train_labels = []\n",
        "\n",
        "for i in range(num_classes):\n",
        "  count_to_augment = 1000 - len(train_data_devided[i])\n",
        "  indexes = generate_random_numbers([0,len(train_data_devided[i])-1], count_to_augment)\n",
        "  for j in indexes:\n",
        "    augmented_train_data.append(get_random_transformed_image(train_data_devided[i][j]))\n",
        "    augmented_train_labels.append(to_categorical(i, num_classes))\n"
      ],
      "execution_count": null,
      "outputs": []
    },
    {
      "cell_type": "code",
      "metadata": {
        "id": "BdpO75GV84Ez",
        "colab_type": "code",
        "colab": {}
      },
      "source": [
        "augmented_and_original_train_data = np.concatenate((train_data,augmented_train_data), axis=0)\n",
        "augmented_and_original_train_labels = np.concatenate((train_labels,augmented_train_labels), axis=0)\n",
        "augmented_train_data_gen = train_image_generator.flow(augmented_and_original_train_data, augmented_and_original_train_labels, batch_size=BATCH_SIZE)"
      ],
      "execution_count": null,
      "outputs": []
    },
    {
      "cell_type": "code",
      "metadata": {
        "id": "pof-5aPAUTVe",
        "colab_type": "code",
        "colab": {}
      },
      "source": [
        "# def h_flip(image):\n",
        "#   return np.array(tf.image.flip_left_right(image))\n",
        "\n",
        "# def v_flip(image):\n",
        "#   return np.array(tf.image.flip_up_down(image))\n",
        "\n",
        "# def center_crop(image):\n",
        "#   return np.array(tf.image.central_crop(image, central_fraction=0.5))\n",
        "\n",
        "# def random_transform_image(image, final_height, final_width):\n",
        "#   transformations = {'horizontal flip': h_flip, \n",
        "#                       'vertical flip': v_flip,\n",
        "#                      'center crop': center_crop}\n",
        "\n",
        "# data_generator = ImageDataGenerator(brightness_range=(0.1, 0.9))\n",
        "\n",
        "#   transformed_image = image\n",
        "#   transformation_count = random.randint(1, len(transformations)) \n",
        "#   for i in range(transformation_count):\n",
        "#       key = random.choice(list(transformations))\n",
        "#       transformed_image = transformations[key](transformed_image)\n",
        "\n",
        "#   return cv2.resize(transformed_image, (final_height, final_width))"
      ],
      "execution_count": null,
      "outputs": []
    },
    {
      "cell_type": "markdown",
      "metadata": {
        "id": "XPgw0WybHGbK",
        "colab_type": "text"
      },
      "source": [
        "# define model and train"
      ]
    },
    {
      "cell_type": "code",
      "metadata": {
        "id": "6ZFBDIkOZ8Hc",
        "colab_type": "code",
        "colab": {}
      },
      "source": [
        "from keras.models import Sequential\n",
        "from keras.layers import Conv2D, MaxPool2D, Dense, Flatten, Dropout, BatchNormalization\n",
        "\n",
        "def build_model(batch_normalization):\n",
        "  model = Sequential()\n",
        "  model.add(Conv2D(filters=16, kernel_size=(4, 4), activation='relu', input_shape = (train_data_.shape[1:])))\n",
        "  if batch_normalization: model.add(BatchNormalization())\n",
        "  model.add(Conv2D(filters=32, kernel_size=(3, 3), activation='relu'))\n",
        "  if batch_normalization: model.add(BatchNormalization())\n",
        "  model.add(MaxPool2D(pool_size=(2, 2)))\n",
        "  model.add(Dropout(rate=0.25))\n",
        "  model.add(Conv2D(filters=32, kernel_size=(3, 3), activation='relu'))\n",
        "  if batch_normalization: model.add(BatchNormalization())\n",
        "  model.add(MaxPool2D(pool_size=(2, 2)))\n",
        "  model.add(Dropout(rate=0.25))\n",
        "  model.add(Flatten())\n",
        "  model.add(Dense(256, activation='relu'))\n",
        "  model.add(Dropout(rate=0.5))\n",
        "  model.add(Dense(43, activation='softmax'))\n",
        "\n",
        "  #Compilation of the model\n",
        "  model.compile(\n",
        "      loss='categorical_crossentropy', \n",
        "      optimizer='adam', \n",
        "      metrics=['accuracy']\n",
        "  )\n",
        "  return model\n",
        "\n",
        "def step_decay(epoch):\n",
        "  initial_lrate = 0.001\n",
        "  drop = 0.5\n",
        "  epochs_drop = 10\n",
        "  lrate = initial_lrate * math.pow(drop, math.floor((1+epoch)/epochs_drop))\n",
        "  return lrate"
      ],
      "execution_count": null,
      "outputs": []
    },
    {
      "cell_type": "code",
      "metadata": {
        "id": "UhxkZ_yUccsl",
        "colab_type": "code",
        "colab": {}
      },
      "source": [
        "model_name = \"drop_out_relu_aug_method2\"\n",
        "model_path = \"/content/drive/My Drive/german_trafficsign_dataset/my_models/my_model_\"\n",
        "\n",
        "model = build_model(0)\n",
        "# model.load_weights(\"/content/drive/My Drive/german_trafficsign_dataset/my_models/my_model_drop_out_relu_with_augmnet_40.ckpt\")\n",
        "# model = load_model(\"/content/drive/My Drive/german_trafficsign_dataset/my_models_final/my_model_drop_out_relu_with_augmnet_method1_40_80.h5\")\n",
        "model.summary()\n",
        "\n",
        "\n",
        "lrate = keras.callbacks.LearningRateScheduler(step_decay, verbose=0)\n",
        "# early_stop = keras.callbacks.EarlyStopping(monitor='val_loss', patience=5)\n",
        "\n",
        "check_point_save = ModelCheckpoint(filepath = model_path + model_name +\"_{epoch}\"+\".h5\",\n",
        "                                                 save_weights_only=False,\n",
        "                                                 verbose=1, period=10)\n",
        "\n",
        "history = model.fit(augmented_train_data_gen,\n",
        "                    epochs = 100,\n",
        "                    steps_per_epoch = augmented_and_original_train_data.shape[0]//BATCH_SIZE,\n",
        "                    validation_data = validation_data_gen,\n",
        "                    validation_steps = validation_data.shape[0] // BATCH_SIZE,\n",
        "                    callbacks = [lrate, check_point_save])"
      ],
      "execution_count": null,
      "outputs": []
    },
    {
      "cell_type": "markdown",
      "metadata": {
        "id": "kzp6dq0N7r9p",
        "colab_type": "text"
      },
      "source": [
        "save model and history"
      ]
    },
    {
      "cell_type": "code",
      "metadata": {
        "id": "qphEZkUq26um",
        "colab_type": "code",
        "colab": {}
      },
      "source": [
        "import csv\n",
        "\n",
        "model.save(\"/content/drive/My Drive/german_trafficsign_dataset/my_models_final/my_model_\" + model_name + \".h5\") \n",
        "\n",
        "my_dic = history.history\n",
        "zd = zip(*my_dic.values())\n",
        "with open(\"/content/drive/My Drive/german_trafficsign_dataset/my_models_final/history_\" + model_name + \".csv\", 'w') as file:\n",
        "    writer = csv.writer(file, delimiter=',')\n",
        "    writer.writerow(my_dic.keys())\n",
        "    writer.writerows(zd)"
      ],
      "execution_count": null,
      "outputs": []
    },
    {
      "cell_type": "markdown",
      "metadata": {
        "id": "CQvA8gsV8jsS",
        "colab_type": "text"
      },
      "source": [
        "# Evaluation"
      ]
    },
    {
      "cell_type": "code",
      "metadata": {
        "id": "eSbdjg5q1SGO",
        "colab_type": "code",
        "colab": {}
      },
      "source": [
        "plot_loss_accuracy(history.history, \"loss\")"
      ],
      "execution_count": null,
      "outputs": []
    },
    {
      "cell_type": "code",
      "metadata": {
        "id": "qLHiCKZe79tG",
        "colab_type": "code",
        "colab": {
          "base_uri": "https://localhost:8080/"
        },
        "outputId": "0216d5b0-907c-4173-ad41-478502d2e140"
      },
      "source": [
        "loss, accuracy = model.evaluate(test_data, test_labels, verbose=2)\n",
        "print(\"model accurracy : \", accuracy)"
      ],
      "execution_count": null,
      "outputs": [
        {
          "output_type": "stream",
          "text": [
            "model accurracy :  0.9806017279624939\n"
          ],
          "name": "stdout"
        }
      ]
    },
    {
      "cell_type": "markdown",
      "metadata": {
        "id": "FxTJE2XeTm82",
        "colab_type": "text"
      },
      "source": [
        "confusion matrix:"
      ]
    },
    {
      "cell_type": "code",
      "metadata": {
        "id": "DLN46rnO9RER",
        "colab_type": "code",
        "colab": {}
      },
      "source": [
        "class_names = ['20 km/h', '30 km/h', '50 km/h', '60 km/h', '70 km/h', '80 km/h', '80 km/h end', '100 km/h', '120 km/h', 'No overtaking',\n",
        "               'No overtaking for tracks', 'Crossroad with secondary way', 'Main road', 'Give way', 'Stop', 'Road up', 'Road up for track', 'Brock',\n",
        "               'Other dangerous', 'Turn left', 'Turn right', 'Winding road', 'Hollow road', 'Slippery road', 'Narrowing road', 'Roadwork', 'Traffic light',\n",
        "               'Pedestrian', 'Children', 'Bike', 'Snow', 'Deer', 'End of the limits', 'Only right', 'Only left', 'Only straight', 'Only straight and right', \n",
        "               'Only straight and left', 'Take right', 'Take left', 'Circle crossroad', 'End of overtaking limit', 'End of overtaking limit for track']\n",
        "\n",
        "predictions = model.predict(test_data)\n",
        "predicted_labels=[]\n",
        "for pred in predictions:\n",
        "  predicted_labels.append(np.argmax(pred))\n",
        "\n",
        "\n",
        "color_maps =['viridis',\n",
        "            'Greys', 'Purples', 'Blues', 'Greens', 'Oranges', 'Reds',\n",
        "            'YlOrBr', 'YlOrRd', 'OrRd', 'PuRd', 'RdPu', 'BuPu',\n",
        "            'GnBu', 'PuBu', 'YlGnBu', 'PuBuGn', 'BuGn', 'YlGn']\n",
        "\n",
        "cm = confusion_matrix(test_labels_, predicted_labels)\n",
        "np.set_printoptions(precision=2)\n",
        "\n",
        "plot_confusion_matrix(cm, class_names, cmap=color_maps[0])"
      ],
      "execution_count": null,
      "outputs": []
    },
    {
      "cell_type": "markdown",
      "metadata": {
        "id": "iLwbqHghFtan",
        "colab_type": "text"
      },
      "source": [
        "# Seperation Index Analyis"
      ]
    },
    {
      "cell_type": "code",
      "metadata": {
        "id": "ssAySJ7yHpCV",
        "colab_type": "code",
        "colab": {
          "base_uri": "https://localhost:8080/",
          "height": 629
        },
        "outputId": "c73e888e-1d9f-434b-be6d-206990109887"
      },
      "source": [
        "model = load_model(\"/content/drive/My Drive/german_trafficsign_dataset/my_models_final/my_model_drop_out_relu_batch_normal.h5\")\n",
        "model.summary()"
      ],
      "execution_count": null,
      "outputs": [
        {
          "output_type": "stream",
          "text": [
            "Model: \"sequential_1\"\n",
            "_________________________________________________________________\n",
            "Layer (type)                 Output Shape              Param #   \n",
            "=================================================================\n",
            "conv2d_1 (Conv2D)            (None, 32, 32, 16)        784       \n",
            "_________________________________________________________________\n",
            "batch_normalization_1 (Batch (None, 32, 32, 16)        64        \n",
            "_________________________________________________________________\n",
            "conv2d_2 (Conv2D)            (None, 30, 30, 32)        4640      \n",
            "_________________________________________________________________\n",
            "batch_normalization_2 (Batch (None, 30, 30, 32)        128       \n",
            "_________________________________________________________________\n",
            "max_pooling2d_1 (MaxPooling2 (None, 15, 15, 32)        0         \n",
            "_________________________________________________________________\n",
            "dropout_1 (Dropout)          (None, 15, 15, 32)        0         \n",
            "_________________________________________________________________\n",
            "conv2d_3 (Conv2D)            (None, 13, 13, 32)        9248      \n",
            "_________________________________________________________________\n",
            "batch_normalization_3 (Batch (None, 13, 13, 32)        128       \n",
            "_________________________________________________________________\n",
            "max_pooling2d_2 (MaxPooling2 (None, 6, 6, 32)          0         \n",
            "_________________________________________________________________\n",
            "dropout_2 (Dropout)          (None, 6, 6, 32)          0         \n",
            "_________________________________________________________________\n",
            "flatten_1 (Flatten)          (None, 1152)              0         \n",
            "_________________________________________________________________\n",
            "dense_1 (Dense)              (None, 256)               295168    \n",
            "_________________________________________________________________\n",
            "dropout_3 (Dropout)          (None, 256)               0         \n",
            "_________________________________________________________________\n",
            "dense_2 (Dense)              (None, 43)                11051     \n",
            "=================================================================\n",
            "Total params: 321,211\n",
            "Trainable params: 321,051\n",
            "Non-trainable params: 160\n",
            "_________________________________________________________________\n"
          ],
          "name": "stdout"
        }
      ]
    },
    {
      "cell_type": "code",
      "metadata": {
        "id": "UlC1D9xuL5w2",
        "colab_type": "code",
        "colab": {}
      },
      "source": [
        "#list of output of model for each layer\n",
        "from keras.models import Model\n",
        "all_layers_output = []\n",
        "for i in range(len(model.layers)):\n",
        "  all_layers_output.append(Model(inputs = model.layers[0].input, outputs=model.layers[i].output))"
      ],
      "execution_count": null,
      "outputs": []
    },
    {
      "cell_type": "code",
      "metadata": {
        "id": "FMz1T-3XSq1F",
        "colab_type": "code",
        "colab": {}
      },
      "source": [
        "def IS_first_approch(layer_index):\n",
        "  output_of_layer_n = all_layers_output[layer_index].predict(train_data)\n",
        "  sum_correct = 0\n",
        "  for i in range(len(train_data)):\n",
        "    print(i)\n",
        "    temp_output = copy.deepcopy(output_of_layer_n)\n",
        "    temp_output = temp_output - temp_output[i]\n",
        "    temp_output = np.absolute(temp_output)\n",
        "\n",
        "    min_ = np.inf\n",
        "    for j in range(len(train_data)):\n",
        "      if j != i:\n",
        "        norm1 = np.sum(temp_output[j])\n",
        "        if norm1 < min_:\n",
        "          min_ = norm1\n",
        "          min_index = j\n",
        "\n",
        "    if np.argmax(train_labels[i]) == np.argmax(train_labels[min_index]):\n",
        "      sum_correct = sum_correct + 1\n",
        "    \n",
        "  return sum_correct/len(train_data)\n",
        "\n"
      ],
      "execution_count": null,
      "outputs": []
    },
    {
      "cell_type": "code",
      "metadata": {
        "id": "Uv8DVM2JlzB2",
        "colab_type": "code",
        "colab": {}
      },
      "source": [
        "def IS_socond_faster_approch(layer_index):\n",
        "  print(layer_index)\n",
        "  output_of_layer_n = all_layers_output[layer_index].predict(train_data)\n",
        "  sum_correct = 0\n",
        "\n",
        "  centers = {}\n",
        "  centers_count = {}\n",
        "  for i in range(num_classes):\n",
        "    centers[i] = 0\n",
        "    centers_count[i] = 0\n",
        "\n",
        "  for i in range(len(train_data)):\n",
        "    centers[train_labels_hw2_extra[i]] = centers[train_labels_hw2_extra[i]] + output_of_layer_n[i]\n",
        "    centers_count[train_labels_hw2_extra[i]] = centers_count[train_labels_hw2_extra[i]] +1\n",
        "\n",
        "  for i in range(num_classes):\n",
        "    centers[i] = centers[i]/centers_count[i]\n",
        "\n",
        "\n",
        "  for i in range(len(train_data)):\n",
        "    min_ = np.inf\n",
        "    for j in range(num_classes):\n",
        "      norm1 = np.sum(np.absolute(output_of_layer_n[i] - centers[j]))\n",
        "      if norm1 < min_:\n",
        "        min_ = norm1\n",
        "        min_index = j\n",
        "    if train_labels_hw2_extra[i] == min_index:\n",
        "      sum_correct = sum_correct + 1\n",
        "  \n",
        "  return sum_correct/len(train_data)\n"
      ],
      "execution_count": null,
      "outputs": []
    },
    {
      "cell_type": "code",
      "metadata": {
        "id": "B15MMP8dcWAy",
        "colab_type": "code",
        "colab": {}
      },
      "source": [
        "IS_of_all_layers = []\n",
        "for i in range(len(model.layers)):\n",
        "  IS = IS_socond_faster_approch(i)\n",
        "  print(IS)\n",
        "  IS_of_all_layers.append(IS)"
      ],
      "execution_count": null,
      "outputs": []
    },
    {
      "cell_type": "code",
      "metadata": {
        "id": "txOvU1GQomPJ",
        "colab_type": "code",
        "colab": {
          "base_uri": "https://localhost:8080/",
          "height": 565
        },
        "outputId": "2ee95902-ab78-40ab-c606-0eb36ea333fe"
      },
      "source": [
        "figure(num=None, figsize=(8,8), dpi=80, facecolor='w', edgecolor='k')\n",
        "plt.plot(IS_of_all_layers)\n",
        "plt.title( \" Seperation Index \" )\n",
        "plt.xlabel('layer')\n",
        "plt.grid()\n",
        "plt.show()"
      ],
      "execution_count": null,
      "outputs": [
        {
          "output_type": "display_data",
          "data": {
            "image/png": "[encoded data removed]",
            "text/plain": [
              "<Figure size 640x640 with 1 Axes>"
            ]
          },
          "metadata": {
            "tags": []
          }
        }
      ]
    }
  ]
}